{
  "nbformat": 4,
  "nbformat_minor": 0,
  "metadata": {
    "colab": {
      "name": "GanInto.ipynb",
      "provenance": [],
      "collapsed_sections": []
    },
    "kernelspec": {
      "name": "python3",
      "display_name": "Python 3"
    },
    "language_info": {
      "name": "python"
    }
  },
  "cells": [
    {
      "cell_type": "code",
      "execution_count": null,
      "metadata": {
        "id": "NcxzNNDcUq90"
      },
      "outputs": [],
      "source": [
        "#kutuphaneler\n",
        "import torch \n",
        "from torch import nn\n",
        "import math\n",
        "import matplotlib.pyplot as plt"
      ]
    },
    {
      "cell_type": "code",
      "source": [
        "#random sayi\n",
        "torch.manual_seed(111)"
      ],
      "metadata": {
        "id": "ci-z6jjmVJmJ"
      },
      "execution_count": null,
      "outputs": []
    },
    {
      "cell_type": "code",
      "source": [
        "#egitim verilerinin hazırlanması\n",
        "\n",
        "train_data_lenght=1024\n",
        "train_data=torch.zeros((train_data_lenght,2))\n",
        "#1024 satir 2 sutunlu 0 lar matrisi\n",
        "train_data[:,0]=2*math.pi*torch.rand(train_data_lenght)\n",
        "#ilk sutuna 0-2pi arasında random degerler\n",
        "train_data[:,1]=torch.sin(train_data[:,0])\n",
        "#2. sutuna ilk sutun degerlerinin sinüsü\n",
        "train_labels=torch.zeros(train_data_lenght)\n",
        "train_set=[(train_data[i],train_labels[i]) for i in range(train_data_lenght)]\n",
        "#train_set dizisi"
      ],
      "metadata": {
        "id": "IKoa0kHFVW5x"
      },
      "execution_count": null,
      "outputs": []
    },
    {
      "cell_type": "code",
      "source": [
        "plt.plot(train_data[:,0],train_data[:,1],\".\")"
      ],
      "metadata": {
        "colab": {
          "base_uri": "https://localhost:8080/",
          "height": 284
        },
        "id": "nOIxrFr8YlqT",
        "outputId": "af6f2d0b-8210-4879-8bb9-6b3f18e13feb"
      },
      "execution_count": null,
      "outputs": [
        {
          "output_type": "execute_result",
          "data": {
            "text/plain": [
              "[<matplotlib.lines.Line2D at 0x7f965f8c98d0>]"
            ]
          },
          "metadata": {},
          "execution_count": 4
        },
        {
          "output_type": "display_data",
          "data": {
            "text/plain": [
              "<Figure size 432x288 with 1 Axes>"
            ],
            "image/png": "[encoded data removed]"
          },
          "metadata": {
            "needs_background": "light"
          }
        }
      ]
    },
    {
      "cell_type": "code",
      "source": [
        "batch_size=32\n",
        "train_loader=torch.utils.data.DataLoader(train_set,batch_size=batch_size,shuffle=True)\n",
        "#train_setteki verileri karşılastıracak ve train yapacak 32 örneklik train_loader"
      ],
      "metadata": {
        "id": "6BrAHsnXbul_"
      },
      "execution_count": null,
      "outputs": []
    },
    {
      "cell_type": "markdown",
      "source": [
        "Discriminator Implamentasyonu"
      ],
      "metadata": {
        "id": "CCz0etRFciUy"
      }
    },
    {
      "cell_type": "code",
      "source": [
        "class Discriminator(nn.Module):\n",
        "    def __init__(self):\n",
        "        super().__init__()\n",
        "        self.model = nn.Sequential(\n",
        "            nn.Linear(2, 256), #2 boyutlu,256 noron\n",
        "            nn.ReLU(),\n",
        "            nn.Dropout(0.3),\n",
        "            nn.Linear(256, 128), #128 noron\n",
        "            nn.ReLU(),\n",
        "            nn.Dropout(0.3),\n",
        "            nn.Linear(128, 64), #64 noron\n",
        "            nn.ReLU(),\n",
        "            nn.Dropout(0.3),\n",
        "            nn.Linear(64, 1), #Tek noron/çıktı\n",
        "            nn.Sigmoid(),\n",
        "        )\n",
        "\n",
        "    def forward(self, x):\n",
        "        output = self.model(x)\n",
        "        return output"
      ],
      "metadata": {
        "id": "rhFlAilocqPG"
      },
      "execution_count": null,
      "outputs": []
    },
    {
      "cell_type": "code",
      "source": [
        "#discriminator baslatma\n",
        "discriminator=Discriminator()"
      ],
      "metadata": {
        "id": "9Fa9km-rd1Od"
      },
      "execution_count": null,
      "outputs": []
    },
    {
      "cell_type": "markdown",
      "source": [
        "Generator Implementasyonu"
      ],
      "metadata": {
        "id": "nelgsDold-Jg"
      }
    },
    {
      "cell_type": "code",
      "source": [
        "class Generator(nn.Module):\n",
        "    def __init__(self):\n",
        "        super().__init__()\n",
        "        self.model = nn.Sequential(\n",
        "            nn.Linear(2, 16),\n",
        "            nn.ReLU(),\n",
        "            nn.Linear(16, 32),\n",
        "            nn.ReLU(),\n",
        "            nn.Linear(32, 2),\n",
        "        )\n",
        "\n",
        "    def forward(self, x):\n",
        "        output = self.model(x)\n",
        "        return output"
      ],
      "metadata": {
        "id": "79-qLzQ3eBuu"
      },
      "execution_count": null,
      "outputs": []
    },
    {
      "cell_type": "code",
      "source": [
        "#generator baslatma\n",
        "generator=Generator()"
      ],
      "metadata": {
        "id": "Tc1pmsaTeiIx"
      },
      "execution_count": null,
      "outputs": []
    },
    {
      "cell_type": "markdown",
      "source": [
        "Modelin Egitimi"
      ],
      "metadata": {
        "id": "79t4_U9heqgI"
      }
    },
    {
      "cell_type": "code",
      "source": [
        "lr=0.001 #ögrenme orani\n",
        "num_epochs=300 #egitim sayisi\n",
        "loss_function=nn.BCELoss()"
      ],
      "metadata": {
        "id": "umT6dLBEetJi"
      },
      "execution_count": null,
      "outputs": []
    },
    {
      "cell_type": "code",
      "source": [
        "optimizer_discriminator = torch.optim.Adam(discriminator.parameters(),lr=lr) #Adam algoritması\n",
        "optimizer_generator = torch.optim.Adam(generator.parameters(), lr=lr) #optimizasion"
      ],
      "metadata": {
        "id": "lpfvrn8wfsJB"
      },
      "execution_count": null,
      "outputs": []
    },
    {
      "cell_type": "code",
      "source": [
        "for epoch in range(num_epochs):\n",
        "    for n, (real_samples, _) in enumerate(train_loader):\n",
        "        # Data for training the discriminator\n",
        "        real_samples_labels = torch.ones((batch_size, 1)) #1 degerli etiketler\n",
        "        latent_space_samples = torch.randn((batch_size, 2))\n",
        "        generated_samples = generator(latent_space_samples) #generatorun beslenmesi\n",
        "        generated_samples_labels = torch.zeros((batch_size, 1)) #generatorun beslenmesi\n",
        "        all_samples = torch.cat((real_samples, generated_samples)) #olusan etiketlere 0 atanması\n",
        "        all_samples_labels = torch.cat(\n",
        "            (real_samples_labels, generated_samples_labels) #etiketlerin birlesimi \n",
        "        )\n",
        "\n",
        "        # Training the discriminator\n",
        "        discriminator.zero_grad() #gradyan temizligi\n",
        "        output_discriminator = discriminator(all_samples)\n",
        "        loss_discriminator = loss_function(\n",
        "            output_discriminator, all_samples_labels)\n",
        "        loss_discriminator.backward() #agirlik güncellemesi için gradyan hesabı\n",
        "        optimizer_discriminator.step()\n",
        "\n",
        "        # gener. egitim verileri\n",
        "        latent_space_samples = torch.randn((batch_size, 2))\n",
        "\n",
        "        # gener. egitimi\n",
        "        generator.zero_grad() #gradient temizligi\n",
        "        generated_samples = generator(latent_space_samples)\n",
        "        output_discriminator_generated = discriminator(generated_samples) #outputlarla disc beslenmesi\n",
        "        loss_generator = loss_function(\n",
        "            output_discriminator_generated, real_samples_labels\n",
        "        )\n",
        "        loss_generator.backward()\n",
        "        optimizer_generator.step()\n",
        "\n",
        "        # kayıplar\n",
        "        if epoch % 10 == 0 and n == batch_size - 1:\n",
        "            print(f\"Epoch: {epoch} Loss D.: {loss_discriminator}\")\n",
        "            print(f\"Epoch: {epoch} Loss G.: {loss_generator}\")"
      ],
      "metadata": {
        "colab": {
          "base_uri": "https://localhost:8080/"
        },
        "id": "jIePxcA7gHLu",
        "outputId": "0888caf5-7a51-4353-cc42-d2caf7d62836"
      },
      "execution_count": null,
      "outputs": [
        {
          "output_type": "stream",
          "name": "stdout",
          "text": [
            "Epoch: 0 Loss D.: 0.2777519226074219\n",
            "Epoch: 0 Loss G.: 2.479822874069214\n",
            "Epoch: 10 Loss D.: 0.6976768374443054\n",
            "Epoch: 10 Loss G.: 1.0228482484817505\n",
            "Epoch: 20 Loss D.: 0.5322899222373962\n",
            "Epoch: 20 Loss G.: 0.7786505222320557\n",
            "Epoch: 30 Loss D.: 0.6169901490211487\n",
            "Epoch: 30 Loss G.: 1.1677546501159668\n",
            "Epoch: 40 Loss D.: 0.5698204040527344\n",
            "Epoch: 40 Loss G.: 0.9936011433601379\n",
            "Epoch: 50 Loss D.: 0.5979540348052979\n",
            "Epoch: 50 Loss G.: 1.016742467880249\n",
            "Epoch: 60 Loss D.: 0.7142415046691895\n",
            "Epoch: 60 Loss G.: 0.7656229138374329\n",
            "Epoch: 70 Loss D.: 0.7212836146354675\n",
            "Epoch: 70 Loss G.: 0.9131929874420166\n",
            "Epoch: 80 Loss D.: 0.6145780682563782\n",
            "Epoch: 80 Loss G.: 0.8710252046585083\n",
            "Epoch: 90 Loss D.: 0.759217381477356\n",
            "Epoch: 90 Loss G.: 0.877991259098053\n",
            "Epoch: 100 Loss D.: 0.7274193167686462\n",
            "Epoch: 100 Loss G.: 0.6492547988891602\n",
            "Epoch: 110 Loss D.: 0.6562544703483582\n",
            "Epoch: 110 Loss G.: 0.8301516175270081\n",
            "Epoch: 120 Loss D.: 0.6537683606147766\n",
            "Epoch: 120 Loss G.: 0.7710025906562805\n",
            "Epoch: 130 Loss D.: 0.6964420676231384\n",
            "Epoch: 130 Loss G.: 0.6855637431144714\n",
            "Epoch: 140 Loss D.: 0.6915009021759033\n",
            "Epoch: 140 Loss G.: 0.7135404348373413\n",
            "Epoch: 150 Loss D.: 0.698305606842041\n",
            "Epoch: 150 Loss G.: 0.7493139505386353\n",
            "Epoch: 160 Loss D.: 0.7049509286880493\n",
            "Epoch: 160 Loss G.: 0.707761287689209\n",
            "Epoch: 170 Loss D.: 0.6726386547088623\n",
            "Epoch: 170 Loss G.: 0.6745622158050537\n",
            "Epoch: 180 Loss D.: 0.6894352436065674\n",
            "Epoch: 180 Loss G.: 0.7196567058563232\n",
            "Epoch: 190 Loss D.: 0.6786662340164185\n",
            "Epoch: 190 Loss G.: 0.7300726175308228\n",
            "Epoch: 200 Loss D.: 0.6957379579544067\n",
            "Epoch: 200 Loss G.: 0.7324313521385193\n",
            "Epoch: 210 Loss D.: 0.6857156753540039\n",
            "Epoch: 210 Loss G.: 0.69945228099823\n",
            "Epoch: 220 Loss D.: 0.6887627243995667\n",
            "Epoch: 220 Loss G.: 0.8639174699783325\n",
            "Epoch: 230 Loss D.: 0.6796237826347351\n",
            "Epoch: 230 Loss G.: 0.7055443525314331\n",
            "Epoch: 240 Loss D.: 0.6628502607345581\n",
            "Epoch: 240 Loss G.: 0.7020866274833679\n",
            "Epoch: 250 Loss D.: 0.663120687007904\n",
            "Epoch: 250 Loss G.: 0.7854059338569641\n",
            "Epoch: 260 Loss D.: 0.7000343203544617\n",
            "Epoch: 260 Loss G.: 0.9354350566864014\n",
            "Epoch: 270 Loss D.: 0.6379753947257996\n",
            "Epoch: 270 Loss G.: 0.9550598859786987\n",
            "Epoch: 280 Loss D.: 0.6905474066734314\n",
            "Epoch: 280 Loss G.: 0.6757622361183167\n",
            "Epoch: 290 Loss D.: 0.6920605897903442\n",
            "Epoch: 290 Loss G.: 0.6971858143806458\n"
          ]
        }
      ]
    },
    {
      "cell_type": "code",
      "source": [
        "#rastgele örnekler alma\n",
        "latent_space_samples = torch.randn(100, 2)\n",
        "generated_samples = generator(latent_space_samples)"
      ],
      "metadata": {
        "id": "Dnz4CIMjiqHN"
      },
      "execution_count": null,
      "outputs": []
    },
    {
      "cell_type": "code",
      "source": [
        "generated_samples = generated_samples.detach()\n",
        "plt.plot(generated_samples[:, 0], generated_samples[:, 1], \".\")"
      ],
      "metadata": {
        "colab": {
          "base_uri": "https://localhost:8080/",
          "height": 284
        },
        "id": "QvT_eBkvjE3F",
        "outputId": "185b5748-22cf-4759-f320-c392d3397575"
      },
      "execution_count": null,
      "outputs": [
        {
          "output_type": "execute_result",
          "data": {
            "text/plain": [
              "[<matplotlib.lines.Line2D at 0x7f965edd21d0>]"
            ]
          },
          "metadata": {},
          "execution_count": 17
        },
        {
          "output_type": "display_data",
          "data": {
            "text/plain": [
              "<Figure size 432x288 with 1 Axes>"
            ],
            "image/png": "[encoded data removed]"
          },
          "metadata": {
            "needs_background": "light"
          }
        }
      ]
    }
  ]
}